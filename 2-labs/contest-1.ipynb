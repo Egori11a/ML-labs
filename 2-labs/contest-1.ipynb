{
 "cells": [
  {
   "cell_type": "markdown",
   "metadata": {
    "id": "fpM5xQJf5m3P"
   },
   "source": [
    "# *Контест 1*\n",
    "# *Линейная регрессия*\n",
    "# *Потапов Егор, м8о-309б-22*"
   ]
  },
  {
   "cell_type": "markdown",
   "metadata": {
    "id": "4Z8KE7A86Atx"
   },
   "source": [
    "*Подключение необходимых библиотек*"
   ]
  },
  {
   "cell_type": "code",
   "execution_count": 3,
   "metadata": {
    "id": "9PGf5--y5d3W"
   },
   "outputs": [],
   "source": [
    "import pandas as pd\n",
    "import numpy as np\n",
    "import plotly.express as px\n",
    "import plotly.figure_factory as ff\n",
    "import matplotlib.pyplot as plt\n",
    "import seaborn as sns\n",
    "from sklearn.preprocessing import TargetEncoder\n",
    "from sklearn.preprocessing import LabelEncoder\n",
    "from sklearn import linear_model\n",
    "from sklearn.metrics import mean_squared_error\n",
    "from sklearn.linear_model import ElasticNet\n",
    "from sklearn.pipeline import make_pipeline\n",
    "from sklearn.preprocessing import StandardScaler\n",
    "from sklearn.preprocessing import MinMaxScaler\n",
    "from sklearn.model_selection import KFold, cross_val_score"
   ]
  },
  {
   "cell_type": "markdown",
   "metadata": {
    "id": "JWPSFNpy6OcC"
   },
   "source": [
    "*Загружаем датасет и проверяем загрузку*"
   ]
  },
  {
   "cell_type": "code",
   "execution_count": 5,
   "metadata": {
    "id": "XU0QLgnTC1Ln"
   },
   "outputs": [
    {
     "data": {
      "text/html": [
       "<div>\n",
       "<style scoped>\n",
       "    .dataframe tbody tr th:only-of-type {\n",
       "        vertical-align: middle;\n",
       "    }\n",
       "\n",
       "    .dataframe tbody tr th {\n",
       "        vertical-align: top;\n",
       "    }\n",
       "\n",
       "    .dataframe thead th {\n",
       "        text-align: right;\n",
       "    }\n",
       "</style>\n",
       "<table border=\"1\" class=\"dataframe\">\n",
       "  <thead>\n",
       "    <tr style=\"text-align: right;\">\n",
       "      <th></th>\n",
       "      <th>ApplicationDate</th>\n",
       "      <th>Age</th>\n",
       "      <th>AnnualIncome</th>\n",
       "      <th>CreditScore</th>\n",
       "      <th>LoanAmount</th>\n",
       "      <th>LoanDuration</th>\n",
       "      <th>MaritalStatus</th>\n",
       "      <th>NumberOfDependents</th>\n",
       "      <th>HomeOwnershipStatus</th>\n",
       "      <th>MonthlyDebtPayments</th>\n",
       "      <th>...</th>\n",
       "      <th>EmploymentStatus</th>\n",
       "      <th>EducationLevel</th>\n",
       "      <th>Experience</th>\n",
       "      <th>NetWorth</th>\n",
       "      <th>BaseInterestRate</th>\n",
       "      <th>InterestRate</th>\n",
       "      <th>MonthlyLoanPayment</th>\n",
       "      <th>TotalDebtToIncomeRatio</th>\n",
       "      <th>LoanApproved</th>\n",
       "      <th>RiskScore</th>\n",
       "    </tr>\n",
       "  </thead>\n",
       "  <tbody>\n",
       "    <tr>\n",
       "      <th>0</th>\n",
       "      <td>2010-06-26</td>\n",
       "      <td>27.0</td>\n",
       "      <td>66829.0</td>\n",
       "      <td>549.0</td>\n",
       "      <td>17290.0</td>\n",
       "      <td>60.0</td>\n",
       "      <td>Divorced</td>\n",
       "      <td>1.0</td>\n",
       "      <td>Rent</td>\n",
       "      <td>1095.0</td>\n",
       "      <td>...</td>\n",
       "      <td>Employed</td>\n",
       "      <td>Associate</td>\n",
       "      <td>4.0</td>\n",
       "      <td>35067.0</td>\n",
       "      <td>0.257790</td>\n",
       "      <td>0.251465</td>\n",
       "      <td>508.970230</td>\n",
       "      <td>0.288013</td>\n",
       "      <td>0.0</td>\n",
       "      <td>66.176500</td>\n",
       "    </tr>\n",
       "    <tr>\n",
       "      <th>1</th>\n",
       "      <td>1996-09-23</td>\n",
       "      <td>55.0</td>\n",
       "      <td>172147.0</td>\n",
       "      <td>850.0</td>\n",
       "      <td>16110.0</td>\n",
       "      <td>36.0</td>\n",
       "      <td>Widowed</td>\n",
       "      <td>1.0</td>\n",
       "      <td>Mortgage</td>\n",
       "      <td>211.0</td>\n",
       "      <td>...</td>\n",
       "      <td>Employed</td>\n",
       "      <td>High School</td>\n",
       "      <td>33.0</td>\n",
       "      <td>27001.0</td>\n",
       "      <td>0.086110</td>\n",
       "      <td>0.093173</td>\n",
       "      <td>514.675859</td>\n",
       "      <td>0.050585</td>\n",
       "      <td>1.0</td>\n",
       "      <td>28.495737</td>\n",
       "    </tr>\n",
       "    <tr>\n",
       "      <th>2</th>\n",
       "      <td>2015-01-19</td>\n",
       "      <td>51.0</td>\n",
       "      <td>300000.0</td>\n",
       "      <td>850.0</td>\n",
       "      <td>38436.0</td>\n",
       "      <td>36.0</td>\n",
       "      <td>Married</td>\n",
       "      <td>0.0</td>\n",
       "      <td>Mortgage</td>\n",
       "      <td>546.0</td>\n",
       "      <td>...</td>\n",
       "      <td>Employed</td>\n",
       "      <td>Bachelor</td>\n",
       "      <td>28.0</td>\n",
       "      <td>278382.0</td>\n",
       "      <td>0.108436</td>\n",
       "      <td>0.115443</td>\n",
       "      <td>1268.276385</td>\n",
       "      <td>0.072571</td>\n",
       "      <td>1.0</td>\n",
       "      <td>34.488104</td>\n",
       "    </tr>\n",
       "    <tr>\n",
       "      <th>3</th>\n",
       "      <td>1981-05-12</td>\n",
       "      <td>25.0</td>\n",
       "      <td>34683.0</td>\n",
       "      <td>847.0</td>\n",
       "      <td>19186.0</td>\n",
       "      <td>48.0</td>\n",
       "      <td>Married</td>\n",
       "      <td>0.0</td>\n",
       "      <td>Other</td>\n",
       "      <td>153.0</td>\n",
       "      <td>...</td>\n",
       "      <td>Employed</td>\n",
       "      <td>High School</td>\n",
       "      <td>0.0</td>\n",
       "      <td>9224.0</td>\n",
       "      <td>0.100686</td>\n",
       "      <td>0.112822</td>\n",
       "      <td>498.505187</td>\n",
       "      <td>0.225415</td>\n",
       "      <td>1.0</td>\n",
       "      <td>36.910753</td>\n",
       "    </tr>\n",
       "    <tr>\n",
       "      <th>4</th>\n",
       "      <td>1995-05-07</td>\n",
       "      <td>55.0</td>\n",
       "      <td>300000.0</td>\n",
       "      <td>850.0</td>\n",
       "      <td>30437.0</td>\n",
       "      <td>48.0</td>\n",
       "      <td>Single</td>\n",
       "      <td>2.0</td>\n",
       "      <td>Rent</td>\n",
       "      <td>562.0</td>\n",
       "      <td>...</td>\n",
       "      <td>Employed</td>\n",
       "      <td>Bachelor</td>\n",
       "      <td>31.0</td>\n",
       "      <td>4502.0</td>\n",
       "      <td>0.110437</td>\n",
       "      <td>0.089037</td>\n",
       "      <td>756.035156</td>\n",
       "      <td>0.052721</td>\n",
       "      <td>1.0</td>\n",
       "      <td>31.347091</td>\n",
       "    </tr>\n",
       "  </tbody>\n",
       "</table>\n",
       "<p>5 rows × 36 columns</p>\n",
       "</div>"
      ],
      "text/plain": [
       "  ApplicationDate   Age  AnnualIncome  CreditScore  LoanAmount  LoanDuration  \\\n",
       "0      2010-06-26  27.0       66829.0        549.0     17290.0          60.0   \n",
       "1      1996-09-23  55.0      172147.0        850.0     16110.0          36.0   \n",
       "2      2015-01-19  51.0      300000.0        850.0     38436.0          36.0   \n",
       "3      1981-05-12  25.0       34683.0        847.0     19186.0          48.0   \n",
       "4      1995-05-07  55.0      300000.0        850.0     30437.0          48.0   \n",
       "\n",
       "  MaritalStatus  NumberOfDependents HomeOwnershipStatus  MonthlyDebtPayments  \\\n",
       "0      Divorced                 1.0                Rent               1095.0   \n",
       "1       Widowed                 1.0            Mortgage                211.0   \n",
       "2       Married                 0.0            Mortgage                546.0   \n",
       "3       Married                 0.0               Other                153.0   \n",
       "4        Single                 2.0                Rent                562.0   \n",
       "\n",
       "   ...  EmploymentStatus  EducationLevel  Experience  NetWorth  \\\n",
       "0  ...          Employed       Associate         4.0   35067.0   \n",
       "1  ...          Employed     High School        33.0   27001.0   \n",
       "2  ...          Employed        Bachelor        28.0  278382.0   \n",
       "3  ...          Employed     High School         0.0    9224.0   \n",
       "4  ...          Employed        Bachelor        31.0    4502.0   \n",
       "\n",
       "   BaseInterestRate InterestRate  MonthlyLoanPayment  TotalDebtToIncomeRatio  \\\n",
       "0          0.257790     0.251465          508.970230                0.288013   \n",
       "1          0.086110     0.093173          514.675859                0.050585   \n",
       "2          0.108436     0.115443         1268.276385                0.072571   \n",
       "3          0.100686     0.112822          498.505187                0.225415   \n",
       "4          0.110437     0.089037          756.035156                0.052721   \n",
       "\n",
       "   LoanApproved  RiskScore  \n",
       "0           0.0  66.176500  \n",
       "1           1.0  28.495737  \n",
       "2           1.0  34.488104  \n",
       "3           1.0  36.910753  \n",
       "4           1.0  31.347091  \n",
       "\n",
       "[5 rows x 36 columns]"
      ]
     },
     "execution_count": 5,
     "metadata": {},
     "output_type": "execute_result"
    }
   ],
   "source": [
    "df_train = pd.read_csv('Train.csv')\n",
    "df_test = pd.read_csv('test.csv')\n",
    "\n",
    "df_train.head()"
   ]
  },
  {
   "cell_type": "markdown",
   "metadata": {
    "id": "MxlsYuHnDFME"
   },
   "source": [
    "*Берём переменную, которую будем предсказывать*"
   ]
  },
  {
   "cell_type": "code",
   "execution_count": 6,
   "metadata": {
    "id": "6c0az1GBDEP6"
   },
   "outputs": [],
   "source": [
    "y = df_train['RiskScore']"
   ]
  },
  {
   "cell_type": "markdown",
   "metadata": {
    "id": "mo1VGie86kgG"
   },
   "source": [
    "## Количество данных"
   ]
  },
  {
   "cell_type": "code",
   "execution_count": 7,
   "metadata": {
    "colab": {
     "base_uri": "https://localhost:8080/"
    },
    "id": "BqH0hEDO6sR1",
    "outputId": "dcc3c8ea-4dac-4e42-9b54-8c7e6048210b"
   },
   "outputs": [
    {
     "name": "stdout",
     "output_type": "stream",
     "text": [
      "(11017, 36)\n",
      "(5000, 36)\n"
     ]
    }
   ],
   "source": [
    "print(df_train.shape)\n",
    "print(df_test.shape)"
   ]
  },
  {
   "cell_type": "markdown",
   "metadata": {
    "id": "gfAJQrwG7syh"
   },
   "source": [
    "*Описание предсказываемой переменной*"
   ]
  },
  {
   "cell_type": "code",
   "execution_count": 8,
   "metadata": {
    "colab": {
     "base_uri": "https://localhost:8080/",
     "height": 457
    },
    "id": "8AhfX2BG65Gx",
    "outputId": "223e8896-985f-475f-9840-43790c96249d",
    "scrolled": true
   },
   "outputs": [
    {
     "data": {
      "text/html": [
       "<div>\n",
       "<style scoped>\n",
       "    .dataframe tbody tr th:only-of-type {\n",
       "        vertical-align: middle;\n",
       "    }\n",
       "\n",
       "    .dataframe tbody tr th {\n",
       "        vertical-align: top;\n",
       "    }\n",
       "\n",
       "    .dataframe thead th {\n",
       "        text-align: right;\n",
       "    }\n",
       "</style>\n",
       "<table border=\"1\" class=\"dataframe\">\n",
       "  <thead>\n",
       "    <tr style=\"text-align: right;\">\n",
       "      <th></th>\n",
       "      <th>RiskScore</th>\n",
       "    </tr>\n",
       "  </thead>\n",
       "  <tbody>\n",
       "    <tr>\n",
       "      <th>count</th>\n",
       "      <td>1.048700e+04</td>\n",
       "    </tr>\n",
       "    <tr>\n",
       "      <th>mean</th>\n",
       "      <td>-2.569878e+04</td>\n",
       "    </tr>\n",
       "    <tr>\n",
       "      <th>std</th>\n",
       "      <td>1.431675e+06</td>\n",
       "    </tr>\n",
       "    <tr>\n",
       "      <th>min</th>\n",
       "      <td>-9.999999e+06</td>\n",
       "    </tr>\n",
       "    <tr>\n",
       "      <th>1%</th>\n",
       "      <td>-9.999999e+06</td>\n",
       "    </tr>\n",
       "    <tr>\n",
       "      <th>3%</th>\n",
       "      <td>2.432579e+01</td>\n",
       "    </tr>\n",
       "    <tr>\n",
       "      <th>10%</th>\n",
       "      <td>2.831219e+01</td>\n",
       "    </tr>\n",
       "    <tr>\n",
       "      <th>50%</th>\n",
       "      <td>4.411876e+01</td>\n",
       "    </tr>\n",
       "    <tr>\n",
       "      <th>75%</th>\n",
       "      <td>6.535690e+01</td>\n",
       "    </tr>\n",
       "    <tr>\n",
       "      <th>90%</th>\n",
       "      <td>7.259076e+01</td>\n",
       "    </tr>\n",
       "    <tr>\n",
       "      <th>97%</th>\n",
       "      <td>7.928744e+01</td>\n",
       "    </tr>\n",
       "    <tr>\n",
       "      <th>99%</th>\n",
       "      <td>9.022040e+01</td>\n",
       "    </tr>\n",
       "    <tr>\n",
       "      <th>max</th>\n",
       "      <td>1.000000e+07</td>\n",
       "    </tr>\n",
       "  </tbody>\n",
       "</table>\n",
       "</div>"
      ],
      "text/plain": [
       "          RiskScore\n",
       "count  1.048700e+04\n",
       "mean  -2.569878e+04\n",
       "std    1.431675e+06\n",
       "min   -9.999999e+06\n",
       "1%    -9.999999e+06\n",
       "3%     2.432579e+01\n",
       "10%    2.831219e+01\n",
       "50%    4.411876e+01\n",
       "75%    6.535690e+01\n",
       "90%    7.259076e+01\n",
       "97%    7.928744e+01\n",
       "99%    9.022040e+01\n",
       "max    1.000000e+07"
      ]
     },
     "execution_count": 8,
     "metadata": {},
     "output_type": "execute_result"
    }
   ],
   "source": [
    "df_train[['RiskScore']].describe(percentiles=[0.01, 0.03, 0.1, 0.5, 0.75, 0.90, 0.97, 0.99])"
   ]
  },
  {
   "cell_type": "markdown",
   "metadata": {
    "id": "IFWjU0cj9Ks0"
   },
   "source": [
    "*Пропуски в данных, причем у train их очень много*"
   ]
  },
  {
   "cell_type": "code",
   "execution_count": 9,
   "metadata": {
    "colab": {
     "base_uri": "https://localhost:8080/",
     "height": 1000
    },
    "id": "7A7j5Pmkrgys",
    "outputId": "28698873-8141-422f-fa14-775fa0b1167f"
   },
   "outputs": [
    {
     "data": {
      "text/plain": [
       "ID                            0\n",
       "ApplicationDate               0\n",
       "Age                           0\n",
       "AnnualIncome                  0\n",
       "CreditScore                   0\n",
       "LoanAmount                    0\n",
       "LoanDuration                  0\n",
       "MaritalStatus                 0\n",
       "NumberOfDependents            0\n",
       "HomeOwnershipStatus           0\n",
       "MonthlyDebtPayments           0\n",
       "CreditCardUtilizationRate     0\n",
       "NumberOfOpenCreditLines       0\n",
       "NumberOfCreditInquiries       0\n",
       "DebtToIncomeRatio             0\n",
       "BankruptcyHistory             0\n",
       "LoanPurpose                   0\n",
       "PreviousLoanDefaults          0\n",
       "PaymentHistory                0\n",
       "LengthOfCreditHistory         0\n",
       "SavingsAccountBalance         0\n",
       "CheckingAccountBalance        0\n",
       "TotalAssets                   0\n",
       "TotalLiabilities              0\n",
       "MonthlyIncome                 0\n",
       "UtilityBillsPaymentHistory    0\n",
       "JobTenure                     0\n",
       "EmploymentStatus              0\n",
       "EducationLevel                0\n",
       "Experience                    0\n",
       "NetWorth                      0\n",
       "BaseInterestRate              0\n",
       "InterestRate                  0\n",
       "MonthlyLoanPayment            0\n",
       "TotalDebtToIncomeRatio        0\n",
       "LoanApproved                  0\n",
       "dtype: int64"
      ]
     },
     "execution_count": 9,
     "metadata": {},
     "output_type": "execute_result"
    }
   ],
   "source": [
    "df_test.isna().sum()"
   ]
  },
  {
   "cell_type": "code",
   "execution_count": 10,
   "metadata": {
    "colab": {
     "base_uri": "https://localhost:8080/",
     "height": 1000
    },
    "id": "OBEl2Ol08rgp",
    "outputId": "4834205d-2782-413a-e1ec-1b57a02117b1"
   },
   "outputs": [
    {
     "data": {
      "text/plain": [
       "ApplicationDate                530\n",
       "Age                            530\n",
       "AnnualIncome                   530\n",
       "CreditScore                   1031\n",
       "LoanAmount                    1031\n",
       "LoanDuration                   530\n",
       "MaritalStatus                  530\n",
       "NumberOfDependents             530\n",
       "HomeOwnershipStatus            530\n",
       "MonthlyDebtPayments           1031\n",
       "CreditCardUtilizationRate      530\n",
       "NumberOfOpenCreditLines        530\n",
       "NumberOfCreditInquiries        530\n",
       "DebtToIncomeRatio              530\n",
       "BankruptcyHistory             1031\n",
       "LoanPurpose                   1031\n",
       "PreviousLoanDefaults           530\n",
       "PaymentHistory                 530\n",
       "LengthOfCreditHistory          530\n",
       "SavingsAccountBalance          530\n",
       "CheckingAccountBalance        1031\n",
       "TotalAssets                   1031\n",
       "TotalLiabilities               530\n",
       "MonthlyIncome                  530\n",
       "UtilityBillsPaymentHistory     530\n",
       "JobTenure                      530\n",
       "EmploymentStatus               530\n",
       "EducationLevel                 530\n",
       "Experience                     530\n",
       "NetWorth                      1031\n",
       "BaseInterestRate              1031\n",
       "InterestRate                   530\n",
       "MonthlyLoanPayment             530\n",
       "TotalDebtToIncomeRatio         530\n",
       "LoanApproved                   530\n",
       "RiskScore                      530\n",
       "dtype: int64"
      ]
     },
     "execution_count": 10,
     "metadata": {},
     "output_type": "execute_result"
    }
   ],
   "source": [
    "df_train.isna().sum()"
   ]
  },
  {
   "cell_type": "markdown",
   "metadata": {
    "id": "qnjCRXqN96Ex"
   },
   "source": [
    "*Группы значений каждого признака*"
   ]
  },
  {
   "cell_type": "code",
   "execution_count": 11,
   "metadata": {
    "colab": {
     "base_uri": "https://localhost:8080/"
    },
    "id": "3kMayIcJ-VqZ",
    "outputId": "d3b0a5a5-4c95-41c6-d375-72005404c65c"
   },
   "outputs": [
    {
     "data": {
      "text/plain": [
       "Index(['ApplicationDate', 'MaritalStatus', 'HomeOwnershipStatus',\n",
       "       'LoanPurpose', 'EmploymentStatus', 'EducationLevel'],\n",
       "      dtype='object')"
      ]
     },
     "execution_count": 11,
     "metadata": {},
     "output_type": "execute_result"
    }
   ],
   "source": [
    "category_features = df_train.select_dtypes(object).columns\n",
    "category_features"
   ]
  },
  {
   "cell_type": "code",
   "execution_count": 12,
   "metadata": {
    "colab": {
     "base_uri": "https://localhost:8080/"
    },
    "id": "KewfiAph-FaU",
    "outputId": "fbebf077-7b17-4d29-e12e-202e50619aaa"
   },
   "outputs": [
    {
     "name": "stdout",
     "output_type": "stream",
     "text": [
      "ApplicationDate\n",
      "1996-04-03    3\n",
      "1997-08-06    3\n",
      "1983-01-31    3\n",
      "1986-05-04    3\n",
      "1995-04-25    3\n",
      "             ..\n",
      "1998-06-15    1\n",
      "2000-06-26    1\n",
      "1983-08-19    1\n",
      "2019-09-25    1\n",
      "2001-12-28    1\n",
      "Name: count, Length: 10000, dtype: int64\n",
      "-----\n",
      "-----\n",
      "MaritalStatus\n",
      "Married     5145\n",
      "Single      3217\n",
      "Divorced    1562\n",
      "Widowed      563\n",
      "Name: count, dtype: int64\n",
      "-----\n",
      "-----\n",
      "HomeOwnershipStatus\n",
      "Mortgage    4148\n",
      "Rent        3186\n",
      "Own         2116\n",
      "Other       1037\n",
      "Name: count, dtype: int64\n",
      "-----\n",
      "-----\n",
      "LoanPurpose\n",
      "Home                  2981\n",
      "Debt Consolidation    2446\n",
      "Auto                  2010\n",
      "Education             1601\n",
      "Other                  948\n",
      "Name: count, dtype: int64\n",
      "-----\n",
      "-----\n",
      "EmploymentStatus\n",
      "Employed         9059\n",
      "Self-Employed     992\n",
      "Unemployed        436\n",
      "Name: count, dtype: int64\n",
      "-----\n",
      "-----\n",
      "EducationLevel\n",
      "High School    4234\n",
      "Bachelor       3092\n",
      "Associate      2057\n",
      "Master          755\n",
      "Doctorate       349\n",
      "Name: count, dtype: int64\n",
      "-----\n",
      "-----\n"
     ]
    }
   ],
   "source": [
    "for feature in category_features:\n",
    "  print(df_train[feature].value_counts(), end='\\n-----\\n-----\\n')"
   ]
  },
  {
   "cell_type": "markdown",
   "metadata": {
    "id": "8DcfDmU1mYVc"
   },
   "source": [
    "# Кодируем категор. признаки\n",
    "Удаляем строки с пропущенными значениями в категориальных признаках, а так же заполняем пропущенные значения"
   ]
  },
  {
   "cell_type": "code",
   "execution_count": 13,
   "metadata": {
    "id": "MqMckJ9trUnK"
   },
   "outputs": [],
   "source": [
    "df_train = df_train.dropna(subset=category_features.drop(['EmploymentStatus']), axis=0)\n",
    "df_test = df_test.dropna(subset=category_features.drop(['EmploymentStatus']), axis=0)\n",
    "\n",
    "df_train = df_train.dropna(subset=['Experience'], axis=0)\n",
    "df_test = df_test.dropna(subset=['Experience'], axis=0)\n",
    "\n",
    "\n",
    "y = df_train['RiskScore']"
   ]
  },
  {
   "cell_type": "code",
   "execution_count": 14,
   "metadata": {
    "id": "iKwy6pAvm7mf"
   },
   "outputs": [],
   "source": [
    "df_train['EmploymentStatus'] = df_train['EmploymentStatus'].fillna(value='Employed')"
   ]
  },
  {
   "cell_type": "code",
   "execution_count": 15,
   "metadata": {
    "colab": {
     "base_uri": "https://localhost:8080/",
     "height": 1000
    },
    "id": "48Nm-K49FUeK",
    "outputId": "f0f37d80-de1d-4413-b542-3f9fa630968b"
   },
   "outputs": [
    {
     "data": {
      "text/plain": [
       "ApplicationDate               0\n",
       "Age                           0\n",
       "AnnualIncome                  0\n",
       "CreditScore                   0\n",
       "LoanAmount                    0\n",
       "LoanDuration                  0\n",
       "MaritalStatus                 0\n",
       "NumberOfDependents            0\n",
       "HomeOwnershipStatus           0\n",
       "MonthlyDebtPayments           0\n",
       "CreditCardUtilizationRate     0\n",
       "NumberOfOpenCreditLines       0\n",
       "NumberOfCreditInquiries       0\n",
       "DebtToIncomeRatio             0\n",
       "BankruptcyHistory             0\n",
       "LoanPurpose                   0\n",
       "PreviousLoanDefaults          0\n",
       "PaymentHistory                0\n",
       "LengthOfCreditHistory         0\n",
       "SavingsAccountBalance         0\n",
       "CheckingAccountBalance        0\n",
       "TotalAssets                   0\n",
       "TotalLiabilities              0\n",
       "MonthlyIncome                 0\n",
       "UtilityBillsPaymentHistory    0\n",
       "JobTenure                     0\n",
       "EmploymentStatus              0\n",
       "EducationLevel                0\n",
       "Experience                    0\n",
       "NetWorth                      0\n",
       "BaseInterestRate              0\n",
       "InterestRate                  0\n",
       "MonthlyLoanPayment            0\n",
       "TotalDebtToIncomeRatio        0\n",
       "LoanApproved                  0\n",
       "RiskScore                     0\n",
       "dtype: int64"
      ]
     },
     "execution_count": 15,
     "metadata": {},
     "output_type": "execute_result"
    }
   ],
   "source": [
    "df_train.isna().sum()"
   ]
  },
  {
   "cell_type": "markdown",
   "metadata": {},
   "source": [
    "*Кодируем категориальные признаки, которые лучше воспринимаются нашей моделью*"
   ]
  },
  {
   "cell_type": "code",
   "execution_count": 16,
   "metadata": {
    "colab": {
     "base_uri": "https://localhost:8080/",
     "height": 444
    },
    "id": "iTLDDETBmckL",
    "outputId": "bac8856f-fbc8-4dcd-bd07-e86185714aa2"
   },
   "outputs": [
    {
     "data": {
      "text/html": [
       "<div>\n",
       "<style scoped>\n",
       "    .dataframe tbody tr th:only-of-type {\n",
       "        vertical-align: middle;\n",
       "    }\n",
       "\n",
       "    .dataframe tbody tr th {\n",
       "        vertical-align: top;\n",
       "    }\n",
       "\n",
       "    .dataframe thead th {\n",
       "        text-align: right;\n",
       "    }\n",
       "</style>\n",
       "<table border=\"1\" class=\"dataframe\">\n",
       "  <thead>\n",
       "    <tr style=\"text-align: right;\">\n",
       "      <th></th>\n",
       "      <th>ApplicationDate</th>\n",
       "      <th>Age</th>\n",
       "      <th>AnnualIncome</th>\n",
       "      <th>CreditScore</th>\n",
       "      <th>LoanAmount</th>\n",
       "      <th>LoanDuration</th>\n",
       "      <th>MaritalStatus</th>\n",
       "      <th>NumberOfDependents</th>\n",
       "      <th>HomeOwnershipStatus</th>\n",
       "      <th>MonthlyDebtPayments</th>\n",
       "      <th>...</th>\n",
       "      <th>EmploymentStatus</th>\n",
       "      <th>EducationLevel</th>\n",
       "      <th>Experience</th>\n",
       "      <th>NetWorth</th>\n",
       "      <th>BaseInterestRate</th>\n",
       "      <th>InterestRate</th>\n",
       "      <th>MonthlyLoanPayment</th>\n",
       "      <th>TotalDebtToIncomeRatio</th>\n",
       "      <th>LoanApproved</th>\n",
       "      <th>RiskScore</th>\n",
       "    </tr>\n",
       "  </thead>\n",
       "  <tbody>\n",
       "    <tr>\n",
       "      <th>0</th>\n",
       "      <td>2010-06-26</td>\n",
       "      <td>27.0</td>\n",
       "      <td>66829.0</td>\n",
       "      <td>549.0</td>\n",
       "      <td>17290.0</td>\n",
       "      <td>60.0</td>\n",
       "      <td>-40162.315572</td>\n",
       "      <td>1.0</td>\n",
       "      <td>-32987.689127</td>\n",
       "      <td>1095.0</td>\n",
       "      <td>...</td>\n",
       "      <td>Employed</td>\n",
       "      <td>Associate</td>\n",
       "      <td>4.0</td>\n",
       "      <td>35067.0</td>\n",
       "      <td>0.257790</td>\n",
       "      <td>0.251465</td>\n",
       "      <td>508.970230</td>\n",
       "      <td>0.288013</td>\n",
       "      <td>0.0</td>\n",
       "      <td>66.176500</td>\n",
       "    </tr>\n",
       "    <tr>\n",
       "      <th>1</th>\n",
       "      <td>1996-09-23</td>\n",
       "      <td>55.0</td>\n",
       "      <td>172147.0</td>\n",
       "      <td>850.0</td>\n",
       "      <td>16110.0</td>\n",
       "      <td>36.0</td>\n",
       "      <td>-56180.985813</td>\n",
       "      <td>1.0</td>\n",
       "      <td>-32788.988379</td>\n",
       "      <td>211.0</td>\n",
       "      <td>...</td>\n",
       "      <td>Employed</td>\n",
       "      <td>High School</td>\n",
       "      <td>33.0</td>\n",
       "      <td>27001.0</td>\n",
       "      <td>0.086110</td>\n",
       "      <td>0.093173</td>\n",
       "      <td>514.675859</td>\n",
       "      <td>0.050585</td>\n",
       "      <td>1.0</td>\n",
       "      <td>28.495737</td>\n",
       "    </tr>\n",
       "    <tr>\n",
       "      <th>2</th>\n",
       "      <td>2015-01-19</td>\n",
       "      <td>51.0</td>\n",
       "      <td>300000.0</td>\n",
       "      <td>850.0</td>\n",
       "      <td>38436.0</td>\n",
       "      <td>36.0</td>\n",
       "      <td>-28454.639853</td>\n",
       "      <td>0.0</td>\n",
       "      <td>-32788.988379</td>\n",
       "      <td>546.0</td>\n",
       "      <td>...</td>\n",
       "      <td>Employed</td>\n",
       "      <td>Bachelor</td>\n",
       "      <td>28.0</td>\n",
       "      <td>278382.0</td>\n",
       "      <td>0.108436</td>\n",
       "      <td>0.115443</td>\n",
       "      <td>1268.276385</td>\n",
       "      <td>0.072571</td>\n",
       "      <td>1.0</td>\n",
       "      <td>34.488104</td>\n",
       "    </tr>\n",
       "    <tr>\n",
       "      <th>3</th>\n",
       "      <td>1981-05-12</td>\n",
       "      <td>25.0</td>\n",
       "      <td>34683.0</td>\n",
       "      <td>847.0</td>\n",
       "      <td>19186.0</td>\n",
       "      <td>48.0</td>\n",
       "      <td>-28454.639853</td>\n",
       "      <td>0.0</td>\n",
       "      <td>20350.571111</td>\n",
       "      <td>153.0</td>\n",
       "      <td>...</td>\n",
       "      <td>Employed</td>\n",
       "      <td>High School</td>\n",
       "      <td>0.0</td>\n",
       "      <td>9224.0</td>\n",
       "      <td>0.100686</td>\n",
       "      <td>0.112822</td>\n",
       "      <td>498.505187</td>\n",
       "      <td>0.225415</td>\n",
       "      <td>1.0</td>\n",
       "      <td>36.910753</td>\n",
       "    </tr>\n",
       "    <tr>\n",
       "      <th>4</th>\n",
       "      <td>1995-05-07</td>\n",
       "      <td>55.0</td>\n",
       "      <td>300000.0</td>\n",
       "      <td>850.0</td>\n",
       "      <td>30437.0</td>\n",
       "      <td>48.0</td>\n",
       "      <td>-26191.817952</td>\n",
       "      <td>2.0</td>\n",
       "      <td>-32987.689127</td>\n",
       "      <td>562.0</td>\n",
       "      <td>...</td>\n",
       "      <td>Employed</td>\n",
       "      <td>Bachelor</td>\n",
       "      <td>31.0</td>\n",
       "      <td>4502.0</td>\n",
       "      <td>0.110437</td>\n",
       "      <td>0.089037</td>\n",
       "      <td>756.035156</td>\n",
       "      <td>0.052721</td>\n",
       "      <td>1.0</td>\n",
       "      <td>31.347091</td>\n",
       "    </tr>\n",
       "    <tr>\n",
       "      <th>...</th>\n",
       "      <td>...</td>\n",
       "      <td>...</td>\n",
       "      <td>...</td>\n",
       "      <td>...</td>\n",
       "      <td>...</td>\n",
       "      <td>...</td>\n",
       "      <td>...</td>\n",
       "      <td>...</td>\n",
       "      <td>...</td>\n",
       "      <td>...</td>\n",
       "      <td>...</td>\n",
       "      <td>...</td>\n",
       "      <td>...</td>\n",
       "      <td>...</td>\n",
       "      <td>...</td>\n",
       "      <td>...</td>\n",
       "      <td>...</td>\n",
       "      <td>...</td>\n",
       "      <td>...</td>\n",
       "      <td>...</td>\n",
       "      <td>...</td>\n",
       "    </tr>\n",
       "    <tr>\n",
       "      <th>11010</th>\n",
       "      <td>1984-09-26</td>\n",
       "      <td>47.0</td>\n",
       "      <td>88686.0</td>\n",
       "      <td>648.0</td>\n",
       "      <td>5472.0</td>\n",
       "      <td>12.0</td>\n",
       "      <td>-40162.315572</td>\n",
       "      <td>2.0</td>\n",
       "      <td>-32987.689127</td>\n",
       "      <td>98.0</td>\n",
       "      <td>...</td>\n",
       "      <td>Employed</td>\n",
       "      <td>Bachelor</td>\n",
       "      <td>23.0</td>\n",
       "      <td>121698.0</td>\n",
       "      <td>0.156472</td>\n",
       "      <td>0.164928</td>\n",
       "      <td>497.756143</td>\n",
       "      <td>0.080611</td>\n",
       "      <td>1.0</td>\n",
       "      <td>41.553066</td>\n",
       "    </tr>\n",
       "    <tr>\n",
       "      <th>11011</th>\n",
       "      <td>1980-01-15</td>\n",
       "      <td>39.0</td>\n",
       "      <td>300000.0</td>\n",
       "      <td>850.0</td>\n",
       "      <td>7721.0</td>\n",
       "      <td>72.0</td>\n",
       "      <td>-40162.315572</td>\n",
       "      <td>5.0</td>\n",
       "      <td>-49523.589815</td>\n",
       "      <td>276.0</td>\n",
       "      <td>...</td>\n",
       "      <td>Employed</td>\n",
       "      <td>Associate</td>\n",
       "      <td>16.0</td>\n",
       "      <td>18607.0</td>\n",
       "      <td>0.107721</td>\n",
       "      <td>0.108596</td>\n",
       "      <td>146.407421</td>\n",
       "      <td>0.016896</td>\n",
       "      <td>1.0</td>\n",
       "      <td>28.051757</td>\n",
       "    </tr>\n",
       "    <tr>\n",
       "      <th>11012</th>\n",
       "      <td>2010-07-10</td>\n",
       "      <td>57.0</td>\n",
       "      <td>300000.0</td>\n",
       "      <td>850.0</td>\n",
       "      <td>14756.0</td>\n",
       "      <td>48.0</td>\n",
       "      <td>-28454.639853</td>\n",
       "      <td>2.0</td>\n",
       "      <td>-49523.589815</td>\n",
       "      <td>620.0</td>\n",
       "      <td>...</td>\n",
       "      <td>Employed</td>\n",
       "      <td>Associate</td>\n",
       "      <td>38.0</td>\n",
       "      <td>167544.0</td>\n",
       "      <td>0.094756</td>\n",
       "      <td>0.106387</td>\n",
       "      <td>378.792448</td>\n",
       "      <td>0.039952</td>\n",
       "      <td>1.0</td>\n",
       "      <td>32.440586</td>\n",
       "    </tr>\n",
       "    <tr>\n",
       "      <th>11013</th>\n",
       "      <td>2003-10-22</td>\n",
       "      <td>28.0</td>\n",
       "      <td>15000.0</td>\n",
       "      <td>300.0</td>\n",
       "      <td>51361.0</td>\n",
       "      <td>96.0</td>\n",
       "      <td>-26191.817952</td>\n",
       "      <td>1.0</td>\n",
       "      <td>-49523.589815</td>\n",
       "      <td>696.0</td>\n",
       "      <td>...</td>\n",
       "      <td>Employed</td>\n",
       "      <td>Bachelor</td>\n",
       "      <td>5.0</td>\n",
       "      <td>116879.0</td>\n",
       "      <td>0.446361</td>\n",
       "      <td>0.401087</td>\n",
       "      <td>1793.042130</td>\n",
       "      <td>1.991234</td>\n",
       "      <td>0.0</td>\n",
       "      <td>67.673170</td>\n",
       "    </tr>\n",
       "    <tr>\n",
       "      <th>11014</th>\n",
       "      <td>1983-05-12</td>\n",
       "      <td>23.0</td>\n",
       "      <td>15000.0</td>\n",
       "      <td>302.0</td>\n",
       "      <td>30724.0</td>\n",
       "      <td>72.0</td>\n",
       "      <td>-28454.639853</td>\n",
       "      <td>3.0</td>\n",
       "      <td>-32987.689127</td>\n",
       "      <td>413.0</td>\n",
       "      <td>...</td>\n",
       "      <td>Self-Employed</td>\n",
       "      <td>Associate</td>\n",
       "      <td>0.0</td>\n",
       "      <td>250778.0</td>\n",
       "      <td>0.404724</td>\n",
       "      <td>0.360670</td>\n",
       "      <td>1047.672294</td>\n",
       "      <td>1.168538</td>\n",
       "      <td>0.0</td>\n",
       "      <td>75.292707</td>\n",
       "    </tr>\n",
       "  </tbody>\n",
       "</table>\n",
       "<p>9986 rows × 36 columns</p>\n",
       "</div>"
      ],
      "text/plain": [
       "      ApplicationDate   Age  AnnualIncome  CreditScore  LoanAmount  \\\n",
       "0          2010-06-26  27.0       66829.0        549.0     17290.0   \n",
       "1          1996-09-23  55.0      172147.0        850.0     16110.0   \n",
       "2          2015-01-19  51.0      300000.0        850.0     38436.0   \n",
       "3          1981-05-12  25.0       34683.0        847.0     19186.0   \n",
       "4          1995-05-07  55.0      300000.0        850.0     30437.0   \n",
       "...               ...   ...           ...          ...         ...   \n",
       "11010      1984-09-26  47.0       88686.0        648.0      5472.0   \n",
       "11011      1980-01-15  39.0      300000.0        850.0      7721.0   \n",
       "11012      2010-07-10  57.0      300000.0        850.0     14756.0   \n",
       "11013      2003-10-22  28.0       15000.0        300.0     51361.0   \n",
       "11014      1983-05-12  23.0       15000.0        302.0     30724.0   \n",
       "\n",
       "       LoanDuration  MaritalStatus  NumberOfDependents  HomeOwnershipStatus  \\\n",
       "0              60.0  -40162.315572                 1.0        -32987.689127   \n",
       "1              36.0  -56180.985813                 1.0        -32788.988379   \n",
       "2              36.0  -28454.639853                 0.0        -32788.988379   \n",
       "3              48.0  -28454.639853                 0.0         20350.571111   \n",
       "4              48.0  -26191.817952                 2.0        -32987.689127   \n",
       "...             ...            ...                 ...                  ...   \n",
       "11010          12.0  -40162.315572                 2.0        -32987.689127   \n",
       "11011          72.0  -40162.315572                 5.0        -49523.589815   \n",
       "11012          48.0  -28454.639853                 2.0        -49523.589815   \n",
       "11013          96.0  -26191.817952                 1.0        -49523.589815   \n",
       "11014          72.0  -28454.639853                 3.0        -32987.689127   \n",
       "\n",
       "       MonthlyDebtPayments  ...  EmploymentStatus  EducationLevel  Experience  \\\n",
       "0                   1095.0  ...          Employed       Associate         4.0   \n",
       "1                    211.0  ...          Employed     High School        33.0   \n",
       "2                    546.0  ...          Employed        Bachelor        28.0   \n",
       "3                    153.0  ...          Employed     High School         0.0   \n",
       "4                    562.0  ...          Employed        Bachelor        31.0   \n",
       "...                    ...  ...               ...             ...         ...   \n",
       "11010                 98.0  ...          Employed        Bachelor        23.0   \n",
       "11011                276.0  ...          Employed       Associate        16.0   \n",
       "11012                620.0  ...          Employed       Associate        38.0   \n",
       "11013                696.0  ...          Employed        Bachelor         5.0   \n",
       "11014                413.0  ...     Self-Employed       Associate         0.0   \n",
       "\n",
       "       NetWorth  BaseInterestRate  InterestRate  MonthlyLoanPayment  \\\n",
       "0       35067.0          0.257790      0.251465          508.970230   \n",
       "1       27001.0          0.086110      0.093173          514.675859   \n",
       "2      278382.0          0.108436      0.115443         1268.276385   \n",
       "3        9224.0          0.100686      0.112822          498.505187   \n",
       "4        4502.0          0.110437      0.089037          756.035156   \n",
       "...         ...               ...           ...                 ...   \n",
       "11010  121698.0          0.156472      0.164928          497.756143   \n",
       "11011   18607.0          0.107721      0.108596          146.407421   \n",
       "11012  167544.0          0.094756      0.106387          378.792448   \n",
       "11013  116879.0          0.446361      0.401087         1793.042130   \n",
       "11014  250778.0          0.404724      0.360670         1047.672294   \n",
       "\n",
       "       TotalDebtToIncomeRatio  LoanApproved  RiskScore  \n",
       "0                    0.288013           0.0  66.176500  \n",
       "1                    0.050585           1.0  28.495737  \n",
       "2                    0.072571           1.0  34.488104  \n",
       "3                    0.225415           1.0  36.910753  \n",
       "4                    0.052721           1.0  31.347091  \n",
       "...                       ...           ...        ...  \n",
       "11010                0.080611           1.0  41.553066  \n",
       "11011                0.016896           1.0  28.051757  \n",
       "11012                0.039952           1.0  32.440586  \n",
       "11013                1.991234           0.0  67.673170  \n",
       "11014                1.168538           0.0  75.292707  \n",
       "\n",
       "[9986 rows x 36 columns]"
      ]
     },
     "execution_count": 16,
     "metadata": {},
     "output_type": "execute_result"
    }
   ],
   "source": [
    "def mean_target_encode(df, features: list[str], df_test):\n",
    "  enc = TargetEncoder()\n",
    "  for feature in features:\n",
    "    enc = enc.fit(df[feature].values.reshape(-1, 1), y.values)\n",
    "    df[feature] = enc.transform(df[feature].values.reshape(-1, 1))\n",
    "    df_test[feature] = enc.transform(df_test[feature].values.reshape(-1, 1))\n",
    "\n",
    "\n",
    "mean_target_encoded_features = ['MaritalStatus', 'HomeOwnershipStatus', 'LoanPurpose']\n",
    "mean_target_encode(df_train, mean_target_encoded_features, df_test)\n",
    "df_train"
   ]
  },
  {
   "cell_type": "markdown",
   "metadata": {},
   "source": [
    "*Так же преобразует категориальные признаки в числовые значения, чтобы с ними могла работать модель*"
   ]
  },
  {
   "cell_type": "code",
   "execution_count": 17,
   "metadata": {
    "id": "iWyRBvSmrRhk"
   },
   "outputs": [],
   "source": [
    "def label_encode(df, features: list[str], df_test):\n",
    "  le = LabelEncoder()\n",
    "  for feature in features:\n",
    "    le = le.fit(df[feature].values)\n",
    "    df[feature] = le.transform(df[feature])\n",
    "    df_test[feature] = le.transform(df_test[feature])\n",
    "\n",
    "label_encoded_features =  ['EducationLevel', 'EmploymentStatus']\n",
    "label_encode(df_train, label_encoded_features, df_test)"
   ]
  },
  {
   "cell_type": "markdown",
   "metadata": {},
   "source": [
    "*Удаляем выбросы, они нам не нужны и будут только мешать*"
   ]
  },
  {
   "cell_type": "code",
   "execution_count": 18,
   "metadata": {
    "id": "Q1_f8smjiMeM"
   },
   "outputs": [],
   "source": [
    "df_train = df_train[df_train['RiskScore'] > df_train['RiskScore'].quantile(q=0.01)]\n",
    "df_train = df_train[df_train['RiskScore'] < df_train['RiskScore'].quantile(q=0.99)]\n",
    "y = df_train['RiskScore']"
   ]
  },
  {
   "cell_type": "markdown",
   "metadata": {
    "id": "xy8cPX1w_Yqf"
   },
   "source": [
    "## Визуализация данных\n"
   ]
  },
  {
   "cell_type": "markdown",
   "metadata": {
    "id": "OneKN9xR_cVq"
   },
   "source": [
    "### Гистограмма распределения переменной RiskScore + график плотности ядра"
   ]
  },
  {
   "cell_type": "markdown",
   "metadata": {},
   "source": [
    "*Здесь мы можем наблюдать два основых пика: один около 30 и другой около 70, что указывает на существование двух групп наблюдений с различными уровнями риска*"
   ]
  },
  {
   "cell_type": "code",
   "execution_count": 19,
   "metadata": {
    "colab": {
     "base_uri": "https://localhost:8080/",
     "height": 542
    },
    "id": "tH5WxMSVAByq",
    "outputId": "53042b0e-bc69-499a-95c0-0b547e7f1594"
   },
   "outputs": [
    {
     "data": {
      "image/png": "[encoded data removed]",
      "text/plain": [
       "<Figure size 640x480 with 1 Axes>"
      ]
     },
     "metadata": {},
     "output_type": "display_data"
    }
   ],
   "source": [
    "sns.histplot(df_train['RiskScore'], kde=True)\n",
    "plt.title('Distribution of RiskScore')\n",
    "plt.show()"
   ]
  },
  {
   "cell_type": "markdown",
   "metadata": {},
   "source": [
    "*Так же интересно посмотреть на RiskSkore по занятости*"
   ]
  },
  {
   "cell_type": "code",
   "execution_count": 33,
   "metadata": {
    "colab": {
     "base_uri": "https://localhost:8080/",
     "height": 608
    },
    "id": "DkvokwBma-HN",
    "outputId": "776ee4ca-66ff-4182-845b-e9cdaf04c8a0"
   },
   "outputs": [
    {
     "data": {
      "image/png": "[encoded data removed]",
      "text/plain": [
       "<Figure size 1200x600 with 1 Axes>"
      ]
     },
     "metadata": {},
     "output_type": "display_data"
    }
   ],
   "source": [
    "plt.figure(figsize=(12, 6))\n",
    "sns.histplot(data=df_train, x='RiskScore', hue='EmploymentStatus', bins=30, kde=True, alpha=0.7, multiple='stack')\n",
    "plt.title('Распределение RiskScore по статусу занятости')\n",
    "plt.xlabel('RiskScore')\n",
    "plt.ylabel('Количество наблюдений')\n",
    "plt.xlim(0, 100)\n",
    "plt.tight_layout()\n",
    "plt.show()"
   ]
  },
  {
   "cell_type": "markdown",
   "metadata": {},
   "source": [
    "*Удаляю целевую переменную из выборки*"
   ]
  },
  {
   "cell_type": "code",
   "execution_count": 34,
   "metadata": {},
   "outputs": [],
   "source": [
    "df_train.drop(['ApplicationDate', 'RiskScore'], axis=1, inplace=True)\n",
    "test_id = df_test['ID']\n",
    "df_test.drop(['ApplicationDate', 'ID'], axis=1, inplace=True)"
   ]
  },
  {
   "cell_type": "markdown",
   "metadata": {},
   "source": [
    "*Пайплайн для предварительной обработки данных и обучения модели линейной регрессии*"
   ]
  },
  {
   "cell_type": "code",
   "execution_count": 35,
   "metadata": {
    "id": "uccIPH1ooIck"
   },
   "outputs": [],
   "source": [
    "pipeline = make_pipeline(StandardScaler(), linear_model.LinearRegression())"
   ]
  },
  {
   "cell_type": "markdown",
   "metadata": {},
   "source": []
  },
  {
   "cell_type": "code",
   "execution_count": 37,
   "metadata": {
    "colab": {
     "base_uri": "https://localhost:8080/"
    },
    "id": "5hBmgWukvuL1",
    "outputId": "69425b1d-c346-4fb7-99af-2e0f402d2e63"
   },
   "outputs": [
    {
     "name": "stdout",
     "output_type": "stream",
     "text": [
      "MSE:  19.026560408578412\n"
     ]
    }
   ],
   "source": [
    "pipeline.fit(df_train, y)\n",
    "y_pred = pipeline.predict(df_test)\n",
    "y_train_pred = pipeline.predict(df_train)\n",
    "print(\"MSE: \", mean_squared_error(y_train_pred, y))\n",
    "\n",
    "with open('submission.csv', 'w') as file:\n",
    "  file.write(\"ID,RiskScore\\n\")\n",
    "  for id, pred in zip(test_id, y_pred):\n",
    "    file.write(f\"{id},{pred}\\n\")"
   ]
  }
 ],
 "metadata": {
  "colab": {
   "provenance": []
  },
  "kernelspec": {
   "display_name": "Python 3 (ipykernel)",
   "language": "python",
   "name": "python3"
  },
  "language_info": {
   "codemirror_mode": {
    "name": "ipython",
    "version": 3
   },
   "file_extension": ".py",
   "mimetype": "text/x-python",
   "name": "python",
   "nbconvert_exporter": "python",
   "pygments_lexer": "ipython3",
   "version": "3.10.12"
  }
 },
 "nbformat": 4,
 "nbformat_minor": 4
}
